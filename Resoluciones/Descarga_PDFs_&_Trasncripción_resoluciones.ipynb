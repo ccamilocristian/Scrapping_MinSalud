{
 "cells": [
  {
   "cell_type": "markdown",
   "metadata": {},
   "source": [
    "# Consolidación de bases "
   ]
  },
  {
   "cell_type": "markdown",
   "metadata": {},
   "source": [
    "  El código descrito a continuación tiene dos funcionalidades:\n",
    "\n",
    "1. <p style='text-align: justify;'>La primera es descargar cada uno de las resoluciones publicadas en la página del Miniterio de Salud, con base al Scrapping realizado en el script Scrapping_Resoluciones_MinSalud.ipynb.</p>\n",
    "2.  <p style='text-align: justify;'> La segunda parte, transcribe los pdf a texto y valida si los textos tienen menos de 200 palabras para trasnformar dichos pdf en archivos Word y posteriormente reescribir el archivo PDF, esto debido a que hay textos que se publican y son realizados a través de escaneos; por tanto, una manera de solucionar eso es la descrita anteriormente. </p>\n",
    "\n",
    "La finalidad de este script es obtener cada uno de los textos de las resoluciones y generar un dataframe para exportar como excel para el analisis de texto.\n",
    "\n",
    "En primera medida, se importan las librerias necesarias para los procesos descritos en las funcionalidades.</p> "
   ]
  },
  {
   "cell_type": "code",
   "execution_count": null,
   "metadata": {},
   "outputs": [],
   "source": [
    "import os\n",
    "import pandas as pd\n",
    "import string\n",
    "import nltk\n",
    "from nltk import word_tokenize\n",
    "from nltk.corpus import stopwords\n",
    "from tika import parser\n",
    "import PyPDF3\n",
    "import matplotlib.pyplot as plt\n",
    "%matplotlib inline\n",
    "import glob\n",
    "import win32com.client\n",
    "import sys\n",
    "import comtypes.client\n",
    "plt.rcParams[\"figure.figsize\"] = [18.0, 8.0]"
   ]
  },
  {
   "cell_type": "code",
   "execution_count": null,
   "metadata": {},
   "outputs": [],
   "source": [
    "links=pd.read_excel(\"links_resoluciones.xlsx\")\n",
    "links=links.drop(columns=(\"Unnamed: 0\"))\n",
    "links['años']=links['años1'].fillna(0).astype(int)\n",
    "links=links[[\"links\", \"nombre\", \"años\"]]"
   ]
  },
  {
   "cell_type": "code",
   "execution_count": null,
   "metadata": {},
   "outputs": [],
   "source": [
    "links.head()"
   ]
  },
  {
   "cell_type": "code",
   "execution_count": null,
   "metadata": {},
   "outputs": [],
   "source": [
    "links.dtypes"
   ]
  },
  {
   "cell_type": "markdown",
   "metadata": {},
   "source": [
    "El siguiente código lo que hace es realizar el request de cada ruta de resolución y guarda el PDF de cada una en la ruta donde se encuentra este script. "
   ]
  },
  {
   "cell_type": "code",
   "execution_count": null,
   "metadata": {},
   "outputs": [],
   "source": [
    "import urllib.request\n",
    "for i in range(0,len(links)):\n",
    "    print(links['nombre'][i])\n",
    "    try:\n",
    "        urllib.request.urlretrieve(links['links'][i], links['nombre'][i])\n",
    "    except:\n",
    "        None"
   ]
  },
  {
   "cell_type": "markdown",
   "metadata": {},
   "source": [
    "<p style='text-align: justify;'>  El siguiente código genera una función la cual será usada para extraer texto de cada uno de los textos a través de dos métodos, uno es usando la librería \"tika\", de alli, \"parser\" trascribe los textos de pdf a una list; sin embargo, para los archivos que dicha librería no pueda trascribir se usa la librería \"PyPDF3\" el cual transcribe una por una de las hojas de los PDFs.</p>"
   ]
  },
  {
   "cell_type": "code",
   "execution_count": null,
   "metadata": {},
   "outputs": [],
   "source": [
    "def texto(archivopdf):\n",
    "    try:\n",
    "        rawText = parser.from_file(archivopdf)\n",
    "        rawList1 = [rawText['content'].replace(\"\\n\", \"\")]\n",
    "    except:\n",
    "        try:\n",
    "            pdfFileObject = open(archivopdf, 'rb')\n",
    "            pdfReader = PyPDF3.PdfFileReader(pdfFileObject)\n",
    "            count = pdfReader.numPages\n",
    "            rawList1=[]\n",
    "            \n",
    "            for i in range(count):\n",
    "                page = pdfReader.getPage(i)\n",
    "                texto0=page.extractText()\n",
    "                rawList1.append(texto0.replace(\"\\n\", \"\"))\n",
    "        except:\n",
    "            rawList1=[]\n",
    "    return rawList1"
   ]
  },
  {
   "cell_type": "markdown",
   "metadata": {},
   "source": [
    "El siguiente código realiza la trascipción de cada resolución usando la función anterior y guardandolo en una lista. Luego guarda esa lista en una columna de la base de links de resolución publicados por el Ministerio de Salud."
   ]
  },
  {
   "cell_type": "code",
   "execution_count": null,
   "metadata": {},
   "outputs": [],
   "source": [
    "textos_transcritos=[]\n",
    "for i in range(len(links)):\n",
    "    print(i)\n",
    "    palabras=texto(links['nombre'][i])\n",
    "    textos_transcritos.append(palabras)"
   ]
  },
  {
   "cell_type": "code",
   "execution_count": null,
   "metadata": {},
   "outputs": [],
   "source": [
    "links['textos']=textos_transcritos"
   ]
  },
  {
   "cell_type": "markdown",
   "metadata": {},
   "source": [
    "El siguiente código realiza el conteo de cada palabra por cada resolución y lo guarda en una columnda del dataframe."
   ]
  },
  {
   "cell_type": "code",
   "execution_count": null,
   "metadata": {},
   "outputs": [],
   "source": [
    "links['numero_palabras']=''\n",
    "for i in range(len(textos_transcritos)):  \n",
    "    try:\n",
    "        links['numero_palabras'][i]=len(textos_transcritos[i][0])\n",
    "    except:\n",
    "        links['numero_palabras'][i]=0"
   ]
  },
  {
   "cell_type": "markdown",
   "metadata": {},
   "source": [
    "Para los archivos que transcribio y no supero las 500 palabras, se realiza el proceso de convertir dichos archivos a Word y posteriormente gurda como PDF, reemplazando el PDF inicial."
   ]
  },
  {
   "cell_type": "code",
   "execution_count": null,
   "metadata": {},
   "outputs": [],
   "source": [
    "link1=links[links['numero_palabras']<=500].reset_index(drop=True)"
   ]
  },
  {
   "cell_type": "code",
   "execution_count": null,
   "metadata": {},
   "outputs": [],
   "source": [
    "link1.head()"
   ]
  },
  {
   "cell_type": "markdown",
   "metadata": {},
   "source": [
    "Las siguientes funciones realizan las siguientes tareas:\n",
    "1. A través de la función \"pdf_a_word\", con el uso la librería \"win32com\" transforma los pdf en archivos word y los guarda en la misma ruta de este script.\n",
    "2. A través de la función \"eliminacion\" elimina el pdf que se guardó como word con la función del punto 1.\n",
    "3. A través de función \"word_pdf\", guarda el word creado en el punto 1 como PDF con el mismo nombre del archivo eliminado en el punto 2."
   ]
  },
  {
   "cell_type": "code",
   "execution_count": null,
   "metadata": {},
   "outputs": [],
   "source": [
    "def pdf_a_word(archivo):\n",
    "    word = win32com.client.Dispatch(\"Word.Application\")\n",
    "    word.visible = 0\n",
    "    pdfs_path = archivo\n",
    "    \n",
    "    for i, doc in enumerate(glob.iglob(pdfs_path)):\n",
    "        filename = doc.split('\\\\')[-1]\n",
    "        in_file = os.path.abspath(doc)\n",
    "        \n",
    "        print(\"pdf transformado:\\n\",in_file)\n",
    "        wb = word.Documents.Open(in_file)\n",
    "        out_file = os.path.abspath(filename[0:-4]+ \".docx\".format(i))\n",
    "        \n",
    "        print(\"word transformado a pdf:\\n\",out_file)\n",
    "        wb.SaveAs2(out_file, FileFormat=16) \n",
    "        wb.Close(True)# cerrar la aplicación word\n",
    "    word.Quit()"
   ]
  },
  {
   "cell_type": "code",
   "execution_count": null,
   "metadata": {},
   "outputs": [],
   "source": [
    "def eliminacion(ruta):\n",
    "    if os.path.isfile(ruta) or os.path.islink(ruta):\n",
    "        os.remove(ruta)  # \n",
    "    elif os.path.isdir(ruta):\n",
    "        shutil.rmtree(ruta)  \n",
    "    else:\n",
    "        raise ValueError(\"Archivo {} no esta en la direccion.\".format(ruta))"
   ]
  },
  {
   "cell_type": "code",
   "execution_count": null,
   "metadata": {},
   "outputs": [],
   "source": [
    "def word_pdf(archivo):\n",
    "    wdFormatPDF = 17\n",
    "\n",
    "    in_file = os.path.abspath(archivo[:-4]+\".docx\")\n",
    "    out_file = os.path.abspath(archivo[:-4]+\".pdf\")\n",
    "\n",
    "    word = comtypes.client.CreateObject('Word.Application')\n",
    "    doc = word.Documents.Open(in_file)\n",
    "    doc.SaveAs(out_file, FileFormat=wdFormatPDF)\n",
    "    doc.Close()\n",
    "    word.Quit()"
   ]
  },
  {
   "cell_type": "markdown",
   "metadata": {},
   "source": [
    "El siguiente código hace la iteración de las funciones descritas anteriormente para cada uno de los registros que no cumplen con una longitud de palabras mayores a 500. Esto dado que algunos PDFs fueoron creador a tarvés de un proceso de escaneo. "
   ]
  },
  {
   "cell_type": "code",
   "execution_count": null,
   "metadata": {},
   "outputs": [],
   "source": [
    "for i in range(0,len(link1)):\n",
    "    try:\n",
    "        pdf_a_word(link1['nombre'][i])\n",
    "        eliminacion(link1['nombre'][i])\n",
    "        word_pdf(link1['nombre'][i])\n",
    "    except:\n",
    "        None"
   ]
  },
  {
   "cell_type": "markdown",
   "metadata": {},
   "source": [
    "El siguiente código tiene como objetivo iterar la función de transcribir de nuevo los textos para volver a validar si efectivamente hubo un aumento en el número de palabras de cada resolución. Luego de esto, guarda las trascripciones en otra columna del dataframe base que se tiene para el análisis. "
   ]
  },
  {
   "cell_type": "code",
   "execution_count": null,
   "metadata": {},
   "outputs": [],
   "source": [
    "textos_transcritos1=[]\n",
    "for i in range(len(links)):\n",
    "    print(i)\n",
    "    palabras=texto(links['nombre'][i])\n",
    "    textos_transcritos1.append(palabras)\n",
    "links['textos1']=textos_transcritos1"
   ]
  },
  {
   "cell_type": "markdown",
   "metadata": {},
   "source": [
    "El siguiente código realiza el conte de palabras en cada uno de las resoluciones publicados por el MinSalud, con base al arreglo generado anteriormente."
   ]
  },
  {
   "cell_type": "code",
   "execution_count": null,
   "metadata": {},
   "outputs": [],
   "source": [
    "links['numero_palabras1']=''\n",
    "for i in range(len(textos_transcritos)):  \n",
    "    try:\n",
    "        links['numero_palabras1'][i]=len(textos_transcritos1[i][0])\n",
    "    except:\n",
    "        links['numero_palabras1'][i]=0"
   ]
  },
  {
   "cell_type": "code",
   "execution_count": null,
   "metadata": {},
   "outputs": [],
   "source": [
    "links[links['numero_palabras1']<=500]"
   ]
  },
  {
   "cell_type": "code",
   "execution_count": null,
   "metadata": {},
   "outputs": [],
   "source": [
    "links.to_excel(\"Textos_resoluciones.xlsx\")"
   ]
  }
 ],
 "metadata": {
  "kernelspec": {
   "display_name": "Python 3",
   "language": "python",
   "name": "python3"
  },
  "language_info": {
   "codemirror_mode": {
    "name": "ipython",
    "version": 3
   },
   "file_extension": ".py",
   "mimetype": "text/x-python",
   "name": "python",
   "nbconvert_exporter": "python",
   "pygments_lexer": "ipython3",
   "version": "3.7.1"
  }
 },
 "nbformat": 4,
 "nbformat_minor": 2
}

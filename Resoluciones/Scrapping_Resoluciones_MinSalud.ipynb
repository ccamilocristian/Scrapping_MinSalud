{
 "cells": [
  {
   "cell_type": "markdown",
   "metadata": {},
   "source": [
    "# Scrapping de la página de Resoluciones del Ministerio de Salud"
   ]
  },
  {
   "cell_type": "markdown",
   "metadata": {},
   "source": [
    "<p style='text-align: justify;'>  El código descrito a continuación tiene dos funcionalidades:\n",
    "\n",
    "1. La primera es traer el número de registros, año e indicativo del año para asi mismo desarrollar el scrapping de la página.\n",
    "2. La segunda parte, con la ayuda de selenium, hace el scrapping de la página del ministerio simulando los click necesarios para el proceso. \n",
    "\n",
    "La finalidad de este script es obtener la ruta de cada uno de los PDFs de las resoluciones del ministerio de salud, publicados en la pagina web y traer esta información en un dataframepara exportar como csv.\n",
    "\n",
    "En primera medida, se importan las librerias necesarias para el proceso de recolección de datos y llamar la pagina de donda se va a sacar la información preliminar.</p> "
   ]
  },
  {
   "cell_type": "code",
   "execution_count": null,
   "metadata": {},
   "outputs": [],
   "source": [
    "import pandas as pd\n",
    "import re\n",
    "from selenium import webdriver\n",
    "import time\n",
    "from bs4 import BeautifulSoup as bs\n",
    "from urllib.request import urlopen\n",
    "import matplotlib.pyplot as plt\n",
    "import matplotlib.image as mpimg\n",
    "%pylab inline\n",
    "url = \"https://www.minsalud.gov.co/Paginas/Norm_Resoluciones.aspx\"\n",
    "pagina0 = urlopen(url) \n",
    "pagina = bs(pagina0, \"lxml\")"
   ]
  },
  {
   "cell_type": "markdown",
   "metadata": {},
   "source": [
    "El siguiente cógido trae el año en una lista en los cuales se han publicado resoluciones."
   ]
  },
  {
   "cell_type": "code",
   "execution_count": null,
   "metadata": {},
   "outputs": [],
   "source": [
    "año=re.findall('Año</a> : [\\w\\s]+', str(pagina))\n",
    "año1=[]\n",
    "for i in año:    \n",
    "    año1.append(i.replace(\"Año</a> : \",\"\"))"
   ]
  },
  {
   "cell_type": "markdown",
   "metadata": {},
   "source": [
    "El siguiente código trae en una lista el número de publicaciones por cada año, los cuales serán el valor de iteración en el scrapping. Así mismo, se genera el indicativo del año para las iteraciones en la página. "
   ]
  },
  {
   "cell_type": "code",
   "execution_count": null,
   "metadata": {},
   "outputs": [],
   "source": [
    "lista0=re.findall('<span style=\"font-weight: lighter;display: inline-block;\">\\xa0\\u200e[\\w()]+', str(pagina))\n",
    "lista1=[]\n",
    "for i in lista0:    \n",
    "    lista1.append(i.replace('<span style=\"font-weight: lighter;display: inline-block;\">\\xa0\\u200e(',\"\").replace(\")\",\"\"))\n",
    "indicativo=[2*i for i in range(1,len(lista1)+1)]"
   ]
  },
  {
   "cell_type": "markdown",
   "metadata": {},
   "source": [
    "<p style='text-align: justify;'>   El siguiente código genera un DataFrame con el listado de años y el número de resoluciones publicados en la pagina del ministerio de Salud. Se eliminan duplicados, como limpieza de la base de la cual se partira para las iteraciones y el scrapping de las resoluciones de cada año. Finalmente, se seleccionan los años de referencia 2000-2020. </p> "
   ]
  },
  {
   "cell_type": "code",
   "execution_count": null,
   "metadata": {},
   "outputs": [],
   "source": [
    "base1=pd.DataFrame()\n",
    "base1['año']=año1\n",
    "base1['año']=base1['año'].astype(int)\n",
    "base1['numero_registros']=lista1\n",
    "base1['numero_registros']=base1['numero_registros'].astype(int)\n",
    "base1['indicativo']=indicativo\n",
    "base1=base1.drop_duplicates().reset_index(drop=True)\n",
    "base1=base1[base1['año']>=2000].reset_index(drop=True)"
   ]
  },
  {
   "cell_type": "code",
   "execution_count": null,
   "metadata": {
    "scrolled": true
   },
   "outputs": [],
   "source": [
    "base1"
   ]
  },
  {
   "cell_type": "markdown",
   "metadata": {},
   "source": [
    "<p style='text-align: justify;'>  El siguiente código genera una funcion la cual será usada para extraer cada uno de los links de las resoluciones publicados por MinSalud, esto para posteriormente descargarlos en la máquina local.</p>\n",
    "\n",
    "<p style='text-align: justify;'>Con ayuda de la librería selenium, webdriver realiza la simulación de en donde abre una venta en Google Chorme (para esto fue necesario descargar la aplicacion \"chromedriver.exe\"), carga la página en cuestión y selecciona cada uno de los años de publicación segun el indicativo que se defina, posteriormente da un click sobre el link de la resolución que se defina. </p>\n",
    "\n",
    "<p style='text-align: justify;'>Finalmente,  cuando abre el PDF de cada resoluciones, se trae el link de dicah página y cierra la página de Google Chrome. Cuando el año tienen más de 30 publicaiones, el código da click en página siguiente, según correspondan los casos. </p>\n",
    "\n",
    "<p style='text-align: justify;'>El código esta diseñado para que cada 30 registros siga a la hoja siguiente dado el año en el que este haciendo la iteración. </p> "
   ]
  },
  {
   "cell_type": "code",
   "execution_count": null,
   "metadata": {},
   "outputs": [],
   "source": [
    "def busqueda(indicativo,registros):\n",
    "    browser = webdriver.Chrome(executable_path=r\"C:/Users/LENOVO/Desktop/proyecto/chromedriver.exe\")\n",
    "    url = ('https://www.minsalud.gov.co/Paginas/Norm_Resoluciones.aspx')\n",
    "    browser.get(url)\n",
    "    browser.find_elements_by_xpath('/html/body/form/div[12]/div[1]/div[2]/div[2]/div[5]/div/div[3]/div[1]/div[2]/div/div[3]/div/div/div/table/tbody/tr/td/table/tbody[%s]/tr/td/a'%indicativo)[0].click()\n",
    "    time.sleep(15)\n",
    "    if registros<=30:\n",
    "        browser.find_elements_by_xpath('/html/body/form/div[12]/div[1]/div[2]/div[2]/div[5]/div/div[3]/div[1]/div[2]/div/div[3]/div/div/div/table/tbody/tr/td/table/tbody[%s]/tr[%s]/td[3]/a'%(int(indicativo)+1,registros))[0].click()\n",
    "   \n",
    "    elif 31<=registros<=60:\n",
    "        browser.find_elements_by_xpath('/html/body/form/div[12]/div[1]/div[2]/div[2]/div[5]/div/div[3]/div[1]/div[2]/div/div[3]/div/div/div/table/tbody/tr/td/table/tbody[%s]/tr/td/table/tbody/tr/td[2]/a'%(int(indicativo)+2))[0].click()\n",
    "        time.sleep(5)\n",
    "        browser.find_elements_by_xpath('/html/body/form/div[12]/div[1]/div[2]/div[2]/div[5]/div/div[3]/div[1]/div[2]/div/div[3]/div/div/div/table/tbody/tr/td/table/tbody[%s]/tr[%s]/td[3]/a'%(int(indicativo)+1,registros-30))[0].click()\n",
    "    \n",
    "    elif 61<=registros<=90:\n",
    "        browser.find_elements_by_xpath('/html/body/form/div[12]/div[1]/div[2]/div[2]/div[5]/div/div[3]/div[1]/div[2]/div/div[3]/div/div/div/table/tbody/tr/td/table/tbody[%s]/tr/td/table/tbody/tr/td[2]/a'%(int(indicativo)+2))[0].click()\n",
    "        time.sleep(10)\n",
    "        try:\n",
    "            browser.find_elements_by_xpath('/html/body/form/div[12]/div[1]/div[2]/div[2]/div[5]/div/div[3]/div[1]/div[2]/div/div[3]/div/div/div/table/tbody/tr/td/table/tbody[%s]/tr/td/table/tbody/tr/td[3]/a'%(int(indicativo)+2))[0].click()\n",
    "        except:\n",
    "            time.sleep(10)\n",
    "            browser.find_elements_by_xpath('/html/body/form/div[12]/div[1]/div[2]/div[2]/div[5]/div/div[3]/div[1]/div[2]/div/div[3]/div/div/div/table/tbody/tr/td/table/tbody[%s]/tr/td/table/tbody/tr/td[3]/a'%(int(indicativo)+2))[0].click()\n",
    "        time.sleep(5)\n",
    "        browser.find_elements_by_xpath('/html/body/form/div[12]/div[1]/div[2]/div[2]/div[5]/div/div[3]/div[1]/div[2]/div/div[3]/div/div/div/table/tbody/tr/td/table/tbody[%s]/tr[%s]/td[3]/a'%(int(indicativo)+1,registros-60))[0].click()\n",
    "   \n",
    "    elif 91<=registros<=120:\n",
    "        browser.find_elements_by_xpath('/html/body/form/div[12]/div[1]/div[2]/div[2]/div[5]/div/div[3]/div[1]/div[2]/div/div[3]/div/div/div/table/tbody/tr/td/table/tbody[%s]/tr/td/table/tbody/tr/td[2]/a'%(int(indicativo)+2))[0].click()\n",
    "        time.sleep(5)\n",
    "        browser.find_elements_by_xpath('/html/body/form/div[12]/div[1]/div[2]/div[2]/div[5]/div/div[3]/div[1]/div[2]/div/div[3]/div/div/div/table/tbody/tr/td/table/tbody[%s]/tr/td/table/tbody/tr/td[3]/a'%(int(indicativo)+2))[0].click()\n",
    "        time.sleep(5)\n",
    "        browser.find_elements_by_xpath('/html/body/form/div[12]/div[1]/div[2]/div[2]/div[5]/div/div[3]/div[1]/div[2]/div/div[3]/div/div/div/table/tbody/tr/td/table/tbody[%s]/tr/td/table/tbody/tr/td[3]/a'%(int(indicativo)+2))[0].click()\n",
    "        time.sleep(5)        \n",
    "        browser.find_elements_by_xpath('/html/body/form/div[12]/div[1]/div[2]/div[2]/div[5]/div/div[3]/div[1]/div[2]/div/div[3]/div/div/div/table/tbody/tr/td/table/tbody[%s]/tr[%s]/td[3]/a'%(int(indicativo)+1,registros-90))[0].click()\n",
    "   \n",
    "    elif 121<=registros<=150:\n",
    "        browser.find_elements_by_xpath('/html/body/form/div[12]/div[1]/div[2]/div[2]/div[5]/div/div[3]/div[1]/div[2]/div/div[3]/div/div/div/table/tbody/tr/td/table/tbody[%s]/tr/td/table/tbody/tr/td[2]/a'%(int(indicativo)+2))[0].click()\n",
    "        time.sleep(5)\n",
    "        browser.find_elements_by_xpath('/html/body/form/div[12]/div[1]/div[2]/div[2]/div[5]/div/div[3]/div[1]/div[2]/div/div[3]/div/div/div/table/tbody/tr/td/table/tbody[%s]/tr/td/table/tbody/tr/td[3]/a'%(int(indicativo)+2))[0].click()\n",
    "        time.sleep(5)\n",
    "        browser.find_elements_by_xpath('/html/body/form/div[12]/div[1]/div[2]/div[2]/div[5]/div/div[3]/div[1]/div[2]/div/div[3]/div/div/div/table/tbody/tr/td/table/tbody[%s]/tr/td/table/tbody/tr/td[3]/a'%(int(indicativo)+2))[0].click()\n",
    "        time.sleep(5)\n",
    "        browser.find_elements_by_xpath('/html/body/form/div[12]/div[1]/div[2]/div[2]/div[5]/div/div[3]/div[1]/div[2]/div/div[3]/div/div/div/table/tbody/tr/td/table/tbody[%s]/tr/td/table/tbody/tr/td[3]/a'%(int(indicativo)+2))[0].click()\n",
    "        time.sleep(5) \n",
    "        browser.find_elements_by_xpath('/html/body/form/div[12]/div[1]/div[2]/div[2]/div[5]/div/div[3]/div[1]/div[2]/div/div[3]/div/div/div/table/tbody/tr/td/table/tbody[%s]/tr[%s]/td[3]/a'%(int(indicativo)+1,registros-120))[0].click()\n",
    "   \n",
    "    else:\n",
    "        browser.find_elements_by_xpath('/html/body/form/div[12]/div[1]/div[2]/div[2]/div[5]/div/div[3]/div[1]/div[2]/div/div[3]/div/div/div/table/tbody/tr/td/table/tbody[%s]/tr/td/table/tbody/tr/td[2]/a'%(int(indicativo)+2))[0].click()\n",
    "        time.sleep(5)\n",
    "        browser.find_elements_by_xpath('/html/body/form/div[12]/div[1]/div[2]/div[2]/div[5]/div/div[3]/div[1]/div[2]/div/div[3]/div/div/div/table/tbody/tr/td/table/tbody[%s]/tr/td/table/tbody/tr/td[3]/a'%(int(indicativo)+2))[0].click()\n",
    "        time.sleep(5)\n",
    "        browser.find_elements_by_xpath('/html/body/form/div[12]/div[1]/div[2]/div[2]/div[5]/div/div[3]/div[1]/div[2]/div/div[3]/div/div/div/table/tbody/tr/td/table/tbody[%s]/tr/td/table/tbody/tr/td[3]/a'%(int(indicativo)+2))[0].click()\n",
    "        time.sleep(5)\n",
    "        browser.find_elements_by_xpath('/html/body/form/div[12]/div[1]/div[2]/div[2]/div[5]/div/div[3]/div[1]/div[2]/div/div[3]/div/div/div/table/tbody/tr/td/table/tbody[%s]/tr/td/table/tbody/tr/td[3]/a'%(int(indicativo)+2))[0].click()\n",
    "        time.sleep(5) \n",
    "        browser.find_elements_by_xpath('/html/body/form/div[12]/div[1]/div[2]/div[2]/div[5]/div/div[3]/div[1]/div[2]/div/div[3]/div/div/div/table/tbody/tr/td/table/tbody[%s]/tr/td/table/tbody/tr/td[3]/a'%(int(indicativo)+2))[0].click()\n",
    "        time.sleep(5) \n",
    "        browser.find_elements_by_xpath('/html/body/form/div[12]/div[1]/div[2]/div[2]/div[5]/div/div[3]/div[1]/div[2]/div/div[3]/div/div/div/table/tbody/tr/td/table/tbody[%s]/tr[%s]/td[3]/a'%(int(indicativo)+1,registros-150))[0].click()\n",
    "    pagina=[]\n",
    "    pagina.append(browser.current_url)\n",
    "    browser.quit()\n",
    "    return pagina"
   ]
  },
  {
   "cell_type": "markdown",
   "metadata": {},
   "source": [
    "<p style='text-align: justify;'>El siguiente código es el encargado de hacer las iteraciones según corresponda el año y el registro a buscar. Esto lo toma del DataFrame generado en el proceso anterior de scrapping donde traía el número de registros publicados en cada año y el indicativo. El resultado es una lista donde se encuentran las rutas de cada resolución. </p>"
   ]
  },
  {
   "cell_type": "code",
   "execution_count": null,
   "metadata": {},
   "outputs": [],
   "source": [
    "links=[]\n",
    "for i in range(0,base1.shape[0]):\n",
    "    for j in range(0,base1['numero_registros'][i]):\n",
    "        print(base1['indicativo'][i], j+1)\n",
    "        url=busqueda(base1['indicativo'][i],j+1)\n",
    "        links.append(url[0])"
   ]
  },
  {
   "cell_type": "markdown",
   "metadata": {},
   "source": [
    "A continuación se muestra un ejemplo con la página del Ministerio de Salud donde se muetra el paso a paso del código anterior:\n",
    "\n",
    "1. El paso uno, el programa abre la pagina y selecciona el año.\n",
    "2. En el paso dos, el programa da click en el decreto, según la iteración en la que vaya.\n",
    "3. En el paso tres, el programa guarda el link de la págian web y cierra la página.\n",
    "4. Este paso ocurre cuando son más de 30 registros, el programa da click en la siguiente página y vuelve al paso 2."
   ]
  },
  {
   "cell_type": "markdown",
   "metadata": {},
   "source": [
    "Paso1: \n",
    "<img src=\"paso_1.JPG\" width=\"800\" height=\"800\">\n",
    "\n",
    "Paso2:\n",
    "<img src=\"paso_2.JPG\" width=\"800\" height=\"800\">\n",
    "\n",
    "Paso3:\n",
    "<img src=\"paso_3.JPG\" width=\"800\" height=\"800\">\n",
    "\n",
    "Paso4:\n",
    "<img src=\"paso_4.JPG\" width=\"800\" height=\"800\">"
   ]
  },
  {
   "cell_type": "markdown",
   "metadata": {},
   "source": [
    "A continuación se transforma la información del scrapping en un dataframe y lo exporta posteriormente en un CSV."
   ]
  },
  {
   "cell_type": "code",
   "execution_count": null,
   "metadata": {},
   "outputs": [],
   "source": [
    "base2=pd.DataFrame()\n",
    "base2['links']=links\n",
    "base2['nombre']=base2['links'].map(lambda x:x.replace(\"https://www.minsalud.gov.co/Normatividad_Nuevo/\",\"\").replace(\"%20\",\"_\"))\n",
    "base2['años']=base2['nombre'].str.findall(r'[\\d]+')\n",
    "for i in range(len(base2)):\n",
    "    try:\n",
    "        base2['años1'][i]=base2['años'][i][-1]\n",
    "    except:\n",
    "        base2['años1'][i]=None\n",
    "base2=base2[['links', 'nombre','años1']]\n",
    "base2=base2.drop_duplicates().reset_index(drop=True)\n",
    "base2.to_excel(\"links_resoluciones.xlsx\")"
   ]
  }
 ],
 "metadata": {
  "kernelspec": {
   "display_name": "Python 3",
   "language": "python",
   "name": "python3"
  },
  "language_info": {
   "codemirror_mode": {
    "name": "ipython",
    "version": 3
   },
   "file_extension": ".py",
   "mimetype": "text/x-python",
   "name": "python",
   "nbconvert_exporter": "python",
   "pygments_lexer": "ipython3",
   "version": "3.7.1"
  }
 },
 "nbformat": 4,
 "nbformat_minor": 2
}
